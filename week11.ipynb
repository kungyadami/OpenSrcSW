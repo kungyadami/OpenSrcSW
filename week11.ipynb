{
 "cells": [
  {
   "cell_type": "code",
   "execution_count": 8,
   "id": "7bc4394f",
   "metadata": {},
   "outputs": [
    {
     "name": "stdout",
     "output_type": "stream",
     "text": [
      "파이썬 2\n",
      "파일 2\n",
      "읽기 2\n",
      "예제입니다. 2\n",
      "다양한 1\n",
      "메소드를 1\n",
      "공부해 1\n",
      "보세요. 1\n",
      "실력이 1\n",
      "팍팍 1\n",
      "늘 1\n",
      "거예요~ 1\n",
      "단어 1\n",
      "수를 1\n",
      "카운트하는 1\n",
      "실습 1\n"
     ]
    }
   ],
   "source": [
    "#실습 1\n",
    "f=open('README.txt','r')\n",
    "\n",
    "mydic={}\n",
    "\n",
    "for line in f:\n",
    "    line=line.strip()\n",
    "    words=line.split()\n",
    "    for w in words: #word의 데이터타입은 list\n",
    "        if w in mydic:\n",
    "            mydic[w] += 1 #list 안에 list가 있을 수도 있다. 꼭 문자열일 필요 없음\n",
    "        else:\n",
    "            mydic[w] = 1\n",
    "            \n",
    "for w in mydic:\n",
    "    print(w, mydic[w])#sorting을 할 때에는, list로 변환 후 sorting\n",
    "    \n",
    "f.close()"
   ]
  },
  {
   "cell_type": "code",
   "execution_count": 21,
   "id": "a9a1d7fa",
   "metadata": {},
   "outputs": [
    {
     "name": "stdout",
     "output_type": "stream",
     "text": [
      "(5,6)\n",
      "(3,4)\n",
      "(6,7)\n",
      "(4,5)\n"
     ]
    }
   ],
   "source": [
    "#실습 2\n",
    "class Point:\n",
    "    def __init__(self, x, y):\n",
    "        self.x=x\n",
    "        self.y=y\n",
    "    def move(self,dx,dy):\n",
    "        self.x+=dx\n",
    "        self.y+=dy\n",
    "    def show(self):\n",
    "        print(\"({0:d},{1:d})\".format(self.x,self.y))\n",
    "        \n",
    "class Box(Point):\n",
    "    def __init__(self, p1,p2):\n",
    "        self.p1=p1\n",
    "        self.p2=p2\n",
    "    def move(self, dx, dy):\n",
    "        self.p1.move(dx,dy)\n",
    "        self.p2.move(dx,dy)\n",
    "        \n",
    "    def show(self):\n",
    "        self.p1.show()\n",
    "        self.p2.show()\n",
    "        \n",
    "        \n",
    "p1=Point(5,6)\n",
    "p1.show()\n",
    "p2=Point(3,4)\n",
    "p2.show()\n",
    "\n",
    "b=Box(p1,p2)\n",
    "b.move(1,1)\n",
    "b.show()"
   ]
  },
  {
   "cell_type": "code",
   "execution_count": null,
   "id": "e9157e1e",
   "metadata": {},
   "outputs": [],
   "source": []
  }
 ],
 "metadata": {
  "kernelspec": {
   "display_name": "Python 3 (ipykernel)",
   "language": "python",
   "name": "python3"
  },
  "language_info": {
   "codemirror_mode": {
    "name": "ipython",
    "version": 3
   },
   "file_extension": ".py",
   "mimetype": "text/x-python",
   "name": "python",
   "nbconvert_exporter": "python",
   "pygments_lexer": "ipython3",
   "version": "3.8.2"
  }
 },
 "nbformat": 4,
 "nbformat_minor": 5
}
