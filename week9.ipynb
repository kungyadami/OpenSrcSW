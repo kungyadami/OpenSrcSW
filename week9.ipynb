{
 "cells": [
  {
   "cell_type": "code",
   "execution_count": 5,
   "id": "ceddde71",
   "metadata": {},
   "outputs": [
    {
     "data": {
      "text/plain": [
       "(7, 36)"
      ]
     },
     "execution_count": 5,
     "metadata": {},
     "output_type": "execute_result"
    }
   ],
   "source": [
    "time=456\n",
    "clock=456/60\n",
    "minute=456%60\n",
    "int(clock),int(minute)\n",
    "#내가 푼 것"
   ]
  },
  {
   "cell_type": "code",
   "execution_count": 12,
   "id": "d1fe6ac7",
   "metadata": {},
   "outputs": [
    {
     "data": {
      "text/plain": [
       "(7, 36)"
      ]
     },
     "execution_count": 12,
     "metadata": {},
     "output_type": "execute_result"
    }
   ],
   "source": [
    "a=456\n",
    "h=456/60\n",
    "m=456%60\n",
    "int(h), m\n",
    "#교수님 답안지"
   ]
  },
  {
   "cell_type": "code",
   "execution_count": 10,
   "id": "5c863de8",
   "metadata": {},
   "outputs": [
    {
     "name": "stdout",
     "output_type": "stream",
     "text": [
      "[3.4, 4.0, 2.8, 3.9]\n",
      "['홍길동', '임꺽정', '김철수', '이영희']\n"
     ]
    }
   ],
   "source": []
  },
  {
   "cell_type": "code",
   "execution_count": 13,
   "id": "ea8f0b42",
   "metadata": {},
   "outputs": [
    {
     "name": "stdout",
     "output_type": "stream",
     "text": [
      "['김철수', '이영희', '임꺽정', '홍길동']\n",
      "김철수 2.8\n"
     ]
    }
   ],
   "source": [
    "d={\"홍길동\":3.4, \"임꺽정\":4.0,\"김철수\":2.8, \"이영희\":3.9}\n",
    "data=d.keys()\n",
    "data_list=list(data)\n",
    "data_list.sort()\n",
    "print(data_list)\n",
    "\n",
    "key=data_list[0]\n",
    "value=d[key]\n",
    "print(key,value)\n",
    "#dic은 .get() 도 가능함."
   ]
  },
  {
   "cell_type": "code",
   "execution_count": null,
   "id": "b0d0f7c9",
   "metadata": {},
   "outputs": [],
   "source": []
  }
 ],
 "metadata": {
  "kernelspec": {
   "display_name": "Python 3 (ipykernel)",
   "language": "python",
   "name": "python3"
  },
  "language_info": {
   "codemirror_mode": {
    "name": "ipython",
    "version": 3
   },
   "file_extension": ".py",
   "mimetype": "text/x-python",
   "name": "python",
   "nbconvert_exporter": "python",
   "pygments_lexer": "ipython3",
   "version": "3.8.2"
  }
 },
 "nbformat": 4,
 "nbformat_minor": 5
}
