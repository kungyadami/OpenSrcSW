{
 "cells": [
  {
   "cell_type": "code",
   "execution_count": 8,
   "id": "e89fcbdd",
   "metadata": {},
   "outputs": [
    {
     "name": "stdout",
     "output_type": "stream",
     "text": [
      "가장 많이 맞은 날 :  22424286.0 2021-06-28\n",
      "가장 적게 맞은 날 :  -1.0 2021-02-22\n"
     ]
    }
   ],
   "source": [
    "#daily_vaccination 컬럼 참고하여 백신 가장 많이 접종된 날\n",
    "#가장 적게 접종된 날 출력 -> okay\n",
    "\n",
    "#vaccines컬럼과 country 컬럼을 참고하여 백신 별 접종 국가 수,\n",
    "#많은 백신부터 적은 백신으로 내림차순 정렬\n",
    "\n",
    "\n",
    "import csv\n",
    "import pandas as pd\n",
    "import numpy as np\n",
    "\n",
    "f=open('country_vaccinations.csv')\n",
    "data=csv.reader(f)\n",
    "header=next(data)\n",
    "\n",
    "max_vaccination=-1 #가장 많이 접종 한 수\n",
    "max_date='' #가장 많이 접종한 날짜\n",
    "min_vaccination=9999 #가장 적게 접종한 수\n",
    "min_date='' #가장 적게 접종한 날짜\n",
    "\n",
    "vaccinationList=[]\n",
    "countryList=[]\n",
    "dataList=[]\n",
    "\n",
    "for row in data:\n",
    "    if row[7]=='':\n",
    "        row[7]=-1\n",
    "    row[7]=float(row[7])\n",
    "    if max_vaccination<row[7]:\n",
    "        max_date=row[2]\n",
    "        max_vaccination=row[7]\n",
    "    if min_vaccination>row[7]:\n",
    "        min_date=row[2]\n",
    "        min_vaccination=row[7]\n",
    "    vaccinationList=row[12].split(',')\n",
    "    if row[0] not in countryList :\n",
    "        countryList.append(row[0])\n",
    "\n",
    "\n",
    "        \n",
    "df=pd.DataFrame(data, index=[\"백신 이름\"], columns=[\"접종 국가 수\"])\n",
    "f.close()\n",
    "print(\"가장 많이 맞은 날 : \",max_vaccination, max_date)\n",
    "print(\"가장 적게 맞은 날 : \",min_vaccination, min_date)\n",
    "\n"
   ]
  },
  {
   "cell_type": "code",
   "execution_count": null,
   "id": "d5a08202",
   "metadata": {},
   "outputs": [],
   "source": []
  }
 ],
 "metadata": {
  "kernelspec": {
   "display_name": "Python 3 (ipykernel)",
   "language": "python",
   "name": "python3"
  },
  "language_info": {
   "codemirror_mode": {
    "name": "ipython",
    "version": 3
   },
   "file_extension": ".py",
   "mimetype": "text/x-python",
   "name": "python",
   "nbconvert_exporter": "python",
   "pygments_lexer": "ipython3",
   "version": "3.8.2"
  }
 },
 "nbformat": 4,
 "nbformat_minor": 5
}
